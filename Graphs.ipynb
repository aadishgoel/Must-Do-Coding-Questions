{
 "cells": [
  {
   "cell_type": "markdown",
   "metadata": {},
   "source": [
    "# Graph"
   ]
  },
  {
   "cell_type": "markdown",
   "metadata": {},
   "source": [
    "### <img src=\"https://raw.githubusercontent.com/aadishgoel2013/Must-Do-Coding-Questions/master/graph_diagram.png\">"
   ]
  },
  {
   "cell_type": "code",
   "execution_count": 13,
   "metadata": {},
   "outputs": [],
   "source": [
    "n = 6\n",
    "\n",
    "graph = {\n",
    "    1:[(7,2), (9,3), (14,6)],\n",
    "    2:[(7,1), (10,3), (15,4)],\n",
    "    3:[(9,1), (10,2), (11,4), (2,6)],\n",
    "    4:[(15,2), (11,3), (6,5)],\n",
    "    5:[(6,4),(9,6)],\n",
    "    6:[(14,1),(2,3), (9,5)],\n",
    "}\n",
    "\n",
    "graph2 = [\n",
    "    (1,2,7),\n",
    "    (1,3,9),\n",
    "    (1,6,14),\n",
    "    (2,3,10),\n",
    "    (2,4,15),\n",
    "    (3,4,11),\n",
    "    (3,6,2),\n",
    "    (4,5,6),\n",
    "    (5,6,9),\n",
    "]\n",
    "\n",
    "graph3 = [\n",
    "    (1,2),\n",
    "    (1,3),\n",
    "    (1,6),\n",
    "    (2,3),\n",
    "    (3,6),\n",
    "    (4,5),\n",
    "]"
   ]
  },
  {
   "cell_type": "markdown",
   "metadata": {},
   "source": [
    "## Dijkstra Algo "
   ]
  },
  {
   "cell_type": "code",
   "execution_count": 38,
   "metadata": {},
   "outputs": [
    {
     "data": {
      "text/plain": [
       "[None, 0, 7, 9, 20, 20, 11]"
      ]
     },
     "execution_count": 38,
     "metadata": {},
     "output_type": "execute_result"
    }
   ],
   "source": [
    "from heapq import heappush, heappop\n",
    "\n",
    "def dijkstra(graph, start):\n",
    "    weights = [None]* (len(graph)+1)\n",
    "    heap = [(0, start)] \n",
    "    while heap:\n",
    "        path_len, min_node = heappop(heap)\n",
    "        if weights[min_node] is None:\n",
    "            weights[min_node] = path_len\n",
    "            for edge_len, node in graph[min_node]:\n",
    "                if weights[node] is None:\n",
    "                    heappush(heap, (edge_len+path_len, node))\n",
    "    return weights                \n",
    "\n",
    "dijkstra(graph1, 1)    "
   ]
  },
  {
   "cell_type": "markdown",
   "metadata": {},
   "source": [
    "## Kruskal "
   ]
  },
  {
   "cell_type": "code",
   "execution_count": 11,
   "metadata": {},
   "outputs": [
    {
     "data": {
      "text/plain": [
       "[(3, 6, 2), (1, 2, 7), (1, 3, 9), (3, 4, 11)]"
      ]
     },
     "execution_count": 11,
     "metadata": {},
     "output_type": "execute_result"
    }
   ],
   "source": [
    "def kruskal(graph, n): \n",
    "    gp = {i:i for i in range(1,n+1)}\n",
    "    sets = { i:[i] for i in range(1,n+1)}\n",
    "    graph.sort(key=lambda x:x[2])\n",
    "    \n",
    "    edges_used = []\n",
    "    for u,v,w in graph:\n",
    "        if gp[u]!=gp[v]:\n",
    "            temp = gp[v] \n",
    "            for node in sets[gp[v]]:\n",
    "                gp[node] = gp[u]\n",
    "                sets[gp[u]].append(node)\n",
    "            del sets[temp]\n",
    "            edges_used.append((u,v,w)) \n",
    "    return edges_used      \n",
    "    \n",
    "kruskal(graph2, n)"
   ]
  },
  {
   "cell_type": "markdown",
   "metadata": {},
   "source": [
    "### Connected Components (using kruskal)"
   ]
  },
  {
   "cell_type": "code",
   "execution_count": 14,
   "metadata": {},
   "outputs": [
    {
     "data": {
      "text/plain": [
       "2"
      ]
     },
     "execution_count": 14,
     "metadata": {},
     "output_type": "execute_result"
    }
   ],
   "source": [
    "def connected_components(graph, n): \n",
    "    gp = {i:i for i in range(1,n+1)}\n",
    "    sets = { i:[i] for i in range(1,n+1)}\n",
    "    \n",
    "    for u,v in graph:\n",
    "        if gp[u]!=gp[v]:\n",
    "            temp = gp[v] \n",
    "            for node in sets[gp[v]]:\n",
    "                gp[node] = gp[u]\n",
    "                sets[gp[u]].append(node)\n",
    "            del sets[temp]\n",
    "    return len(sets)      \n",
    "    \n",
    "connected_components(graph3, n)"
   ]
  },
  {
   "cell_type": "code",
   "execution_count": null,
   "metadata": {},
   "outputs": [],
   "source": []
  },
  {
   "cell_type": "code",
   "execution_count": null,
   "metadata": {},
   "outputs": [],
   "source": []
  },
  {
   "cell_type": "code",
   "execution_count": null,
   "metadata": {},
   "outputs": [],
   "source": []
  },
  {
   "cell_type": "code",
   "execution_count": null,
   "metadata": {},
   "outputs": [],
   "source": []
  },
  {
   "cell_type": "code",
   "execution_count": null,
   "metadata": {},
   "outputs": [],
   "source": []
  },
  {
   "cell_type": "code",
   "execution_count": null,
   "metadata": {},
   "outputs": [],
   "source": []
  },
  {
   "cell_type": "code",
   "execution_count": null,
   "metadata": {},
   "outputs": [],
   "source": []
  },
  {
   "cell_type": "code",
   "execution_count": null,
   "metadata": {},
   "outputs": [],
   "source": []
  }
 ],
 "metadata": {
  "kernelspec": {
   "display_name": "Python 3",
   "language": "python",
   "name": "python3"
  },
  "language_info": {
   "codemirror_mode": {
    "name": "ipython",
    "version": 3
   },
   "file_extension": ".py",
   "mimetype": "text/x-python",
   "name": "python",
   "nbconvert_exporter": "python",
   "pygments_lexer": "ipython3",
   "version": "3.7.3"
  }
 },
 "nbformat": 4,
 "nbformat_minor": 4
}
