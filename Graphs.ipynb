{
 "cells": [
  {
   "cell_type": "markdown",
   "metadata": {},
   "source": [
    "# Graph"
   ]
  },
  {
   "cell_type": "markdown",
   "metadata": {},
   "source": [
    "### <img src=\"https://raw.githubusercontent.com/aadishgoel2013/Must-Do-Coding-Questions/master/graph_diagram.png\">"
   ]
  },
  {
   "cell_type": "code",
   "execution_count": 43,
   "metadata": {},
   "outputs": [],
   "source": [
    "graph = {\n",
    "    1:[(7,2), (9,3), (14,6)],\n",
    "    2:[(7,1), (10,3), (15,4)],\n",
    "    3:[(9,1), (10,2), (11,4), (2,6)],\n",
    "    4:[(15,2), (11,3), (6,5)],\n",
    "    5:[(6,4),(9,6)],\n",
    "    6:[(14,1),(2,3), (9,5)],\n",
    "}\n",
    "\n",
    "graph2 = [\n",
    "    (1,2,7),\n",
    "    (1,3,9),\n",
    "    (1,6,14),\n",
    "    (2,3,10),\n",
    "    (2,4,15),\n",
    "    (3,4,11),\n",
    "    (3,6,2),\n",
    "    (4,5,6),\n",
    "    (5,6,9),\n",
    "]"
   ]
  },
  {
   "cell_type": "markdown",
   "metadata": {},
   "source": [
    "### Dijkstra Algo "
   ]
  },
  {
   "cell_type": "code",
   "execution_count": 38,
   "metadata": {},
   "outputs": [
    {
     "data": {
      "text/plain": [
       "[None, 0, 7, 9, 20, 20, 11]"
      ]
     },
     "execution_count": 38,
     "metadata": {},
     "output_type": "execute_result"
    }
   ],
   "source": [
    "from heapq import heappush, heappop\n",
    "\n",
    "def dijkstra(graph, start):\n",
    "    weights = [None]* (len(graph)+1)\n",
    "    heap = [(0, start)] \n",
    "    while heap:\n",
    "        path_len, min_node = heappop(heap)\n",
    "        if weights[min_node] is None:\n",
    "            weights[min_node] = path_len\n",
    "            for edge_len, node in graph[min_node]:\n",
    "                if weights[node] is None:\n",
    "                    heappush(heap, (edge_len+path_len, node))\n",
    "    return weights                \n",
    "\n",
    "dijkstra(graph1, 1)    "
   ]
  },
  {
   "cell_type": "code",
   "execution_count": null,
   "metadata": {},
   "outputs": [],
   "source": [
    "gp = [i for i in range(1,n+1)]\n",
    "sets = { i:[i] for i in range(1,n+1)}\n",
    "\n",
    "def kruskal(graph):\n",
    "    \n",
    "    gp = [i for i in range(1,n+1)]\n",
    "    sets = { i:[i] for i in range(1,n+1)}\n",
    "    graph.sort(key=lambda x:x[2])\n",
    "    \n",
    "    for u,v,w in graph:\n",
    "        if gp[u]!=gp[v]:\n",
    "            for \n",
    "    \n",
    "kruskal(graph2)"
   ]
  },
  {
   "cell_type": "code",
   "execution_count": null,
   "metadata": {},
   "outputs": [],
   "source": []
  },
  {
   "cell_type": "code",
   "execution_count": null,
   "metadata": {},
   "outputs": [],
   "source": []
  },
  {
   "cell_type": "code",
   "execution_count": null,
   "metadata": {},
   "outputs": [],
   "source": []
  },
  {
   "cell_type": "code",
   "execution_count": null,
   "metadata": {},
   "outputs": [],
   "source": []
  },
  {
   "cell_type": "code",
   "execution_count": null,
   "metadata": {},
   "outputs": [],
   "source": []
  },
  {
   "cell_type": "code",
   "execution_count": null,
   "metadata": {},
   "outputs": [],
   "source": []
  },
  {
   "cell_type": "code",
   "execution_count": null,
   "metadata": {},
   "outputs": [],
   "source": []
  },
  {
   "cell_type": "code",
   "execution_count": null,
   "metadata": {},
   "outputs": [],
   "source": []
  },
  {
   "cell_type": "code",
   "execution_count": 45,
   "metadata": {},
   "outputs": [
    {
     "data": {
      "text/plain": [
       "[None, 0, 7, 9, 20, 20, 11]"
      ]
     },
     "execution_count": 45,
     "metadata": {},
     "output_type": "execute_result"
    }
   ],
   "source": [
    "def dijkstra(graph, start):\n",
    "    weights = [None] * (len(graph)+1)\n",
    "    heap = [(0, start)]\n",
    "    while heap:\n",
    "        path_len, min_node = heappop(heap)\n",
    "        if weights[min_node] is None:\n",
    "            weights[min_node] = path_len\n",
    "            for edge_len, node in graph[min_node]:\n",
    "                if weights[node] is None:\n",
    "                    heappush(heap, (path_len+edge_len, node))\n",
    "    return weights        \n",
    "                \n",
    "                    \n",
    "        \n",
    "dijkstra(graph, 1) "
   ]
  },
  {
   "cell_type": "code",
   "execution_count": 41,
   "metadata": {},
   "outputs": [
    {
     "data": {
      "text/plain": [
       "[None, 0, 7, 9, 20, 20, 11]"
      ]
     },
     "execution_count": 41,
     "metadata": {},
     "output_type": "execute_result"
    }
   ],
   "source": []
  },
  {
   "cell_type": "code",
   "execution_count": null,
   "metadata": {},
   "outputs": [],
   "source": []
  }
 ],
 "metadata": {
  "kernelspec": {
   "display_name": "Python 3",
   "language": "python",
   "name": "python3"
  },
  "language_info": {
   "codemirror_mode": {
    "name": "ipython",
    "version": 3
   },
   "file_extension": ".py",
   "mimetype": "text/x-python",
   "name": "python",
   "nbconvert_exporter": "python",
   "pygments_lexer": "ipython3",
   "version": "3.7.3"
  }
 },
 "nbformat": 4,
 "nbformat_minor": 4
}
