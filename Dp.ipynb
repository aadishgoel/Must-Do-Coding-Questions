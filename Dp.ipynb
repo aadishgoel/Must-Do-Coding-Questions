{
 "cells": [
  {
   "cell_type": "markdown",
   "metadata": {},
   "source": [
    "## 01 Knapsack with item list"
   ]
  },
  {
   "cell_type": "code",
   "execution_count": 26,
   "metadata": {},
   "outputs": [],
   "source": [
    "def kanpsack01(values, weights, bag):\n",
    "    n = len(values)\n",
    "    dp = [[0]*(bag+1) for _ in range(n+1)]\n",
    "    \n",
    "    for i in range(n+1):\n",
    "        for j in range(bag+1):\n",
    "            if weights[i-1]>j: dp[i][j] = dp[i-1][j]\n",
    "            else: dp[i][j] = max(dp[i-1][j], values[i-1]+dp[i-1][j-weights[i-1]])\n",
    "    \n",
    "    maximumValue = dp[-1][-1]\n",
    "    \n",
    "    currentWeight = bag\n",
    "    currentValue = maximumValue\n",
    "    items = []\n",
    "    for i in range(n,0,-1):\n",
    "        if currentValue <=0: break\n",
    "        if currentValue != dp[i-1][currentWeight-weights[i-1]]:\n",
    "            items.append(i-1)\n",
    "            currentWeight -= weights[i-1]\n",
    "            currentValue -= values[i-1]\n",
    "   \n",
    "    return maximumValue, items"
   ]
  },
  {
   "cell_type": "code",
   "execution_count": 28,
   "metadata": {},
   "outputs": [
    {
     "data": {
      "text/plain": [
       "(220, [2, 1])"
      ]
     },
     "execution_count": 28,
     "metadata": {},
     "output_type": "execute_result"
    }
   ],
   "source": [
    "values = [ 60, 100, 120 ] \n",
    "weights = [ 10, 20, 30 ] \n",
    "bag = 50\n",
    "kanpsack01(values, weights, bag)"
   ]
  }
 ],
 "metadata": {
  "kernelspec": {
   "display_name": "Python 3",
   "language": "python",
   "name": "python3"
  },
  "language_info": {
   "codemirror_mode": {
    "name": "ipython",
    "version": 3
   },
   "file_extension": ".py",
   "mimetype": "text/x-python",
   "name": "python",
   "nbconvert_exporter": "python",
   "pygments_lexer": "ipython3",
   "version": "3.7.3"
  }
 },
 "nbformat": 4,
 "nbformat_minor": 4
}
