{
 "cells": [
  {
   "cell_type": "markdown",
   "metadata": {},
   "source": [
    "## 01 Knapsack with item list"
   ]
  },
  {
   "cell_type": "code",
   "execution_count": 26,
   "metadata": {},
   "outputs": [],
   "source": [
    "# Bottom Up\n",
    "def kanpsack01(values, weights, bag):\n",
    "    n = len(values)\n",
    "    dp = [[0]*(bag+1) for _ in range(n+1)]\n",
    "    \n",
    "    for i in range(n+1):\n",
    "        for j in range(bag+1):\n",
    "            if weights[i-1]>j: dp[i][j] = dp[i-1][j]\n",
    "            else: dp[i][j] = max(dp[i-1][j], values[i-1]+dp[i-1][j-weights[i-1]])\n",
    "    \n",
    "    maximumValue = dp[-1][-1]\n",
    "    \n",
    "    # Tracing\n",
    "    currentWeight = bag\n",
    "    currentValue = maximumValue\n",
    "    items = []\n",
    "    for i in range(n,0,-1):\n",
    "        if currentValue <=0: break\n",
    "        if currentValue != dp[i-1][currentWeight-weights[i-1]]:\n",
    "            items.append(i-1)\n",
    "            currentWeight -= weights[i-1]\n",
    "            currentValue -= values[i-1]\n",
    "   \n",
    "    return maximumValue, items"
   ]
  },
  {
   "cell_type": "code",
   "execution_count": 28,
   "metadata": {},
   "outputs": [
    {
     "data": {
      "text/plain": [
       "(220, [2, 1])"
      ]
     },
     "execution_count": 28,
     "metadata": {},
     "output_type": "execute_result"
    }
   ],
   "source": [
    "values = [ 60, 100, 120 ] \n",
    "weights = [ 10, 20, 30 ] \n",
    "bag = 50\n",
    "kanpsack01(values, weights, bag)"
   ]
  },
  {
   "cell_type": "markdown",
   "metadata": {},
   "source": [
    "## Minimum Operations"
   ]
  },
  {
   "cell_type": "markdown",
   "metadata": {},
   "source": [
    "#### Min number of operations to make 0 to n. Where 1 operation is doubling the number or incrementing it"
   ]
  },
  {
   "cell_type": "code",
   "execution_count": 35,
   "metadata": {},
   "outputs": [
    {
     "data": {
      "text/plain": [
       "3"
      ]
     },
     "execution_count": 35,
     "metadata": {},
     "output_type": "execute_result"
    }
   ],
   "source": [
    "# Top Down\n",
    "dp = {0:0, 1:1}\n",
    "def minimum_operations(n):\n",
    "    if n not in dp: \n",
    "        dp[n] = min(minimum_operations(n-1), minimum_operations(n//2)+n%2)+1\n",
    "    return dp[n]\n",
    "\n",
    "minimum_operations(4)"
   ]
  },
  {
   "cell_type": "markdown",
   "metadata": {},
   "source": [
    "## Longest Path length in Matrix"
   ]
  },
  {
   "cell_type": "markdown",
   "metadata": {},
   "source": [
    "##### Given a n*n matrix, find maximum length path from any cellsuch that all cells along the mpath are in increasing order with a difference of 1"
   ]
  },
  {
   "cell_type": "code",
   "execution_count": 47,
   "metadata": {},
   "outputs": [
    {
     "data": {
      "text/plain": [
       "4"
      ]
     },
     "execution_count": 47,
     "metadata": {},
     "output_type": "execute_result"
    }
   ],
   "source": [
    "# Top Down\n",
    "def isValid(n,i,j):\n",
    "    return i<n and j<n and i>=0 and j>=0\n",
    "\n",
    "dp = {}\n",
    "def maxPathLenFromStart(matrix,n,i=0,j=0):\n",
    "    if not isValid(n,i,j): return 0\n",
    "    if (i,j) not in dp:\n",
    "        coordinates = [(0,1),(1,0),(0,-1),(-1,0)]\n",
    "        maxi=0\n",
    "        for x,y in coordinates:\n",
    "            if isValid(n,i+x,j+y):\n",
    "                if matrix[i+x][j+y]==matrix[i][j]+1:\n",
    "                    maxi = max(maxi, maxPathLenFromStart(matrix,n,i+x,j+y))\n",
    "        dp[(i,j)] = maxi+1            \n",
    "    return dp[(i,j)]\n",
    "\n",
    "def maxPathLen(matrix,n):\n",
    "    maxi = 0\n",
    "    for i in range(n):\n",
    "        for j in range(n):\n",
    "            maxi = max(maxi, maxPathLenFromStart(matrix, n, i, j))\n",
    "    return maxi\n",
    "\n",
    "\n",
    "data = [[1, 2, 9],\n",
    "        [5, 3, 8],\n",
    "        [4, 6, 7]]\n",
    "maxPathLen(data, 3)"
   ]
  },
  {
   "cell_type": "markdown",
   "metadata": {},
   "source": [
    "## Subset Sum Problem"
   ]
  },
  {
   "cell_type": "code",
   "execution_count": 54,
   "metadata": {},
   "outputs": [
    {
     "data": {
      "text/plain": [
       "True"
      ]
     },
     "execution_count": 54,
     "metadata": {},
     "output_type": "execute_result"
    }
   ],
   "source": [
    "# Top Down\n",
    "def subsetSumWithTarget(data, target, index=0, s=0):\n",
    "    if s==target: return True\n",
    "    if s>target or index>=len(data): return False\n",
    "    return subsetSumWithTarget(data, target, index+1, s+data[index]) or subsetSumWithTarget(data, target, index+1, s)\n",
    "\n",
    "def subsetSum(data):\n",
    "    sumData = sum(data)\n",
    "    if sumData%2: return False\n",
    "    else: return subsetSumWithTarget(data, sumData//2)\n",
    "    \n",
    "data = [1, 5, 11, 5]\n",
    "subsetSum(data)"
   ]
  },
  {
   "cell_type": "markdown",
   "metadata": {},
   "source": [
    "## Maximum sum path in a matrix from top to bottom"
   ]
  },
  {
   "cell_type": "code",
   "execution_count": 65,
   "metadata": {},
   "outputs": [
    {
     "data": {
      "text/plain": [
       "32"
      ]
     },
     "execution_count": 65,
     "metadata": {},
     "output_type": "execute_result"
    }
   ],
   "source": [
    "# Top Down\n",
    "def isInBound(size, x, y):\n",
    "    return x>=0 and y>=0 and x<size and y<size\n",
    "    \n",
    "dp = {}    \n",
    "def maxPathSumFromXY(data, row=0, column=0):\n",
    "    if not isInBound(len(data), row, column): return 0\n",
    "    if (row,column) not in dp: \n",
    "         dp[(row,column)] = max(maxPathSumFromXY(data,row+1,column+1),maxPathSumFromXY(data,row+1,column-1),maxPathSumFromXY(data,row+1,column)) + data[row][column]\n",
    "    return dp[(row,column)]\n",
    "\n",
    "def maxPathSum(data):\n",
    "    return max([maxPathSumFromXY(data, 0, i) for i in range(len(data))])\n",
    "\n",
    "data =[ \n",
    "    [5, 6, 1, 7],\n",
    "    [-2, 10, 8, -1],\n",
    "    [3, -7, -9, 11],\n",
    "    [12, -4, 2, 6],\n",
    "]\n",
    "maxPathSum(data)"
   ]
  },
  {
   "cell_type": "code",
   "execution_count": 4,
   "metadata": {},
   "outputs": [
    {
     "data": {
      "text/plain": [
       "32"
      ]
     },
     "execution_count": 4,
     "metadata": {},
     "output_type": "execute_result"
    }
   ],
   "source": [
    "# Bottom Up\n",
    "def isInBound(size, x, y):\n",
    "    return x>=0 and y>=0 and x<size and y<size\n",
    "    \n",
    "def maxPathSum(data):\n",
    "    dp = [ [0]*len(data) for _ in range(len(data))]\n",
    "    coordiantes = [(-1,-1), (-1,0), (-1,1)]\n",
    "    for i in range(len(data)):\n",
    "        for j in range(len(data)):\n",
    "            dp[i][j] = max([dp[i+x][j+y] for x,y in coordiantes if isInBound(len(data), i+x, j+y)], default=0) + data[i][j] \n",
    "    return dp[-1][-1]            \n",
    "\n",
    "data =[ \n",
    "    [5, 6, 1, 7],\n",
    "    [-2, 10, 8, -1],\n",
    "    [3, -7, -9, 11],\n",
    "    [12, -4, 2, 6],\n",
    "]\n",
    "maxPathSum(data)"
   ]
  },
  {
   "cell_type": "markdown",
   "metadata": {},
   "source": [
    "## Cutting a Rod"
   ]
  },
  {
   "cell_type": "code",
   "execution_count": 49,
   "metadata": {},
   "outputs": [
    {
     "data": {
      "text/plain": [
       "10"
      ]
     },
     "execution_count": 49,
     "metadata": {},
     "output_type": "execute_result"
    }
   ],
   "source": [
    "# Top Down\n",
    "dp = {0:0}\n",
    "def rodCut(prices, size):\n",
    "    if size not in dp:\n",
    "         dp[size] = max([rodCut(prices, size-i-1)+prices[i]  for i in range(size)])\n",
    "    return dp[size]\n",
    "       \n",
    "prices = [1, 5, 8, 9, 10, 17, 17, 20]\n",
    "rodCut(prices, 4)"
   ]
  },
  {
   "cell_type": "code",
   "execution_count": 69,
   "metadata": {},
   "outputs": [
    {
     "data": {
      "text/plain": [
       "10"
      ]
     },
     "execution_count": 69,
     "metadata": {},
     "output_type": "execute_result"
    }
   ],
   "source": [
    "# Bottom Up\n",
    "def rodCut(prices, size):\n",
    "    dp = { i+1:price for i,price in enumerate(prices)} \n",
    "    for s in range(1,size+1):\n",
    "        dp[s] = max([dp.get(s-i-1,0)+prices[i] for i in range(s)])\n",
    "    return dp[size]\n",
    "\n",
    "prices = [1, 5, 8, 9, 10, 17, 17, 20]\n",
    "rodCut(prices, 4)"
   ]
  },
  {
   "cell_type": "markdown",
   "metadata": {},
   "source": [
    "## Maximum sum such that no two elements are adjacent"
   ]
  },
  {
   "cell_type": "code",
   "execution_count": 75,
   "metadata": {},
   "outputs": [
    {
     "data": {
      "text/plain": [
       "110"
      ]
     },
     "execution_count": 75,
     "metadata": {},
     "output_type": "execute_result"
    }
   ],
   "source": [
    "# Top Down\n",
    "dp = {}\n",
    "def maxSumWithoutAdjacent(data, start=0):\n",
    "    if start>=len(data): return 0\n",
    "    if start not in dp:\n",
    "        dp[start] = max(maxSumWithoutAdjacent(data,start+1), maxSumWithoutAdjacent(data,start+2)+data[start])\n",
    "    return dp[start]\n",
    "\n",
    "data = [5, 5, 10, 100, 10, 5]\n",
    "maxSumWithoutAdjacent(data)"
   ]
  },
  {
   "cell_type": "code",
   "execution_count": null,
   "metadata": {},
   "outputs": [],
   "source": []
  }
 ],
 "metadata": {
  "kernelspec": {
   "display_name": "Python 3",
   "language": "python",
   "name": "python3"
  },
  "language_info": {
   "codemirror_mode": {
    "name": "ipython",
    "version": 3
   },
   "file_extension": ".py",
   "mimetype": "text/x-python",
   "name": "python",
   "nbconvert_exporter": "python",
   "pygments_lexer": "ipython3",
   "version": "3.7.3"
  }
 },
 "nbformat": 4,
 "nbformat_minor": 4
}
