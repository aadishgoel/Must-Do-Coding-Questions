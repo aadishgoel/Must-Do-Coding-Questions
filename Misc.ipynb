{
 "cells": [
  {
   "cell_type": "markdown",
   "metadata": {},
   "source": [
    "## Fast Exponentiation (Recursive)"
   ]
  },
  {
   "cell_type": "code",
   "execution_count": 18,
   "metadata": {},
   "outputs": [
    {
     "data": {
      "text/plain": [
       "32"
      ]
     },
     "execution_count": 18,
     "metadata": {},
     "output_type": "execute_result"
    }
   ],
   "source": [
    "def power(a,n):\n",
    "    if n==0: return 1\n",
    "    x = power(a, n//2)\n",
    "    x *= x\n",
    "    if n&1: x *= a\n",
    "    return x\n",
    "\n",
    "def power(a,n):\n",
    "    if n==0: return 1\n",
    "    x = power(a,n//2)\n",
    "    if n&1: return x*x*a\n",
    "    else: return x*x\n",
    "    \n",
    "power(2, 5)"
   ]
  },
  {
   "cell_type": "markdown",
   "metadata": {},
   "source": [
    "## Modular Exponentiation (Iterative)"
   ]
  },
  {
   "cell_type": "code",
   "execution_count": 14,
   "metadata": {},
   "outputs": [
    {
     "data": {
      "text/plain": [
       "32"
      ]
     },
     "execution_count": 14,
     "metadata": {},
     "output_type": "execute_result"
    }
   ],
   "source": [
    "def power(a,n, mod):\n",
    "    res = 1\n",
    "    a %= mod\n",
    "    while(n>0):\n",
    "        if n&1: \n",
    "            res = (res*a)%mod\n",
    "        n >>= 1\n",
    "        a = a*a%mod\n",
    "    return res\n",
    "\n",
    "power(2, 5, 100)"
   ]
  },
  {
   "cell_type": "markdown",
   "metadata": {},
   "source": [
    "## Merge Sort"
   ]
  },
  {
   "cell_type": "code",
   "execution_count": 42,
   "metadata": {},
   "outputs": [
    {
     "data": {
      "text/plain": [
       "[5, 6, 7, 11, 12, 13]"
      ]
     },
     "execution_count": 42,
     "metadata": {},
     "output_type": "execute_result"
    }
   ],
   "source": [
    "from heapq import merge\n",
    "def mergeSort(data, start, end):\n",
    "    if start>=end: return [data[start]]\n",
    "    mid = start+(end-start)//2\n",
    "    ans = list(merge( mergeSort(data, start, mid), mergeSort(data,  mid+1, end))) \n",
    "    return ans\n",
    "\n",
    "data = [12, 11, 13, 5, 6, 7] \n",
    "mergeSort(data, 0, len(data)-1)"
   ]
  },
  {
   "cell_type": "code",
   "execution_count": null,
   "metadata": {},
   "outputs": [],
   "source": []
  }
 ],
 "metadata": {
  "kernelspec": {
   "display_name": "Python 3",
   "language": "python",
   "name": "python3"
  },
  "language_info": {
   "codemirror_mode": {
    "name": "ipython",
    "version": 3
   },
   "file_extension": ".py",
   "mimetype": "text/x-python",
   "name": "python",
   "nbconvert_exporter": "python",
   "pygments_lexer": "ipython3",
   "version": "3.7.3"
  }
 },
 "nbformat": 4,
 "nbformat_minor": 4
}
