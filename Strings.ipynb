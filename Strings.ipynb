{
 "cells": [
  {
   "cell_type": "markdown",
   "metadata": {},
   "source": [
    "## Reverse Words in the String "
   ]
  },
  {
   "cell_type": "code",
   "execution_count": 27,
   "metadata": {},
   "outputs": [
    {
     "data": {
      "text/plain": [
       "'Aadish am I Hello'"
      ]
     },
     "execution_count": 27,
     "metadata": {},
     "output_type": "execute_result"
    }
   ],
   "source": [
    "def reverseWords(text, start):\n",
    "    if start>=len(text)-1: return \"\" \n",
    "    else:\n",
    "        word = []\n",
    "        while start<len(text) and text[start]!=\" \":\n",
    "            word.append(text[start])\n",
    "            start+=1\n",
    "        return reverseWords(text, start+1)+\" \"+\"\".join(word)\n",
    "    \n",
    "def reverseWord(text):\n",
    "    return \" \".join(text.split()[::-1])\n",
    "\n",
    "text = \"Hello I am Aadish\"   \n",
    "reverseWords(list(text), 0)\n",
    "reverseWord(text)\n",
    "    "
   ]
  },
  {
   "cell_type": "markdown",
   "metadata": {},
   "source": [
    "## Permutation of Given String"
   ]
  },
  {
   "cell_type": "code",
   "execution_count": 42,
   "metadata": {},
   "outputs": [
    {
     "name": "stdout",
     "output_type": "stream",
     "text": [
      "abc\n",
      "acb\n",
      "bac\n",
      "bca\n",
      "cba\n",
      "cab\n"
     ]
    }
   ],
   "source": [
    "def permutation(chars, start):\n",
    "    if start==len(chars)-1: \n",
    "        print( \"\".join(chars)) \n",
    "    else:\n",
    "        for i in range(start,len(chars)):\n",
    "            chars[start], chars[i] = chars[i], chars[start] \n",
    "            permutation(chars, start+1)\n",
    "            chars[start], chars[i] = chars[i], chars[start] \n",
    "    \n",
    "chars = ['a', 'b', 'c']\n",
    "permutation(chars, 0 )"
   ]
  },
  {
   "cell_type": "markdown",
   "metadata": {},
   "source": [
    "## Longest Common Prefix"
   ]
  },
  {
   "cell_type": "code",
   "execution_count": 43,
   "metadata": {},
   "outputs": [],
   "source": [
    "def longestCommonPrefix(A):\n",
    "    i=0\n",
    "    first =A[0]\n",
    "    search = True\n",
    "    while search:\n",
    "        for string in A:\n",
    "            if i>=len(string) or first[i]!=string[i]:\n",
    "                search = False\n",
    "                break\n",
    "        else:\n",
    "            i+=1\n",
    "    return first[:i]    \n",
    "\n",
    "def longestCommonPrefix(words):\n",
    "    min_word = min(words, key=lambda x: len(x))\n",
    "    for i in range(len(min_word)):\n",
    "        for j in range(len(words)):\n",
    "            if min_word[i]!=words[j][i]:\n",
    "                return min_word[:i]\n",
    "    return min_word\n"
   ]
  },
  {
   "cell_type": "code",
   "execution_count": null,
   "metadata": {},
   "outputs": [],
   "source": []
  }
 ],
 "metadata": {
  "kernelspec": {
   "display_name": "Python 3",
   "language": "python",
   "name": "python3"
  },
  "language_info": {
   "codemirror_mode": {
    "name": "ipython",
    "version": 3
   },
   "file_extension": ".py",
   "mimetype": "text/x-python",
   "name": "python",
   "nbconvert_exporter": "python",
   "pygments_lexer": "ipython3",
   "version": "3.7.3"
  }
 },
 "nbformat": 4,
 "nbformat_minor": 4
}
