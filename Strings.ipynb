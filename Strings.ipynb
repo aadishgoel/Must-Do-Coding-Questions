{
 "cells": [
  {
   "cell_type": "markdown",
   "metadata": {},
   "source": [
    "## Reverse Words in the String "
   ]
  },
  {
   "cell_type": "code",
   "execution_count": 27,
   "metadata": {},
   "outputs": [
    {
     "data": {
      "text/plain": [
       "'Aadish am I Hello'"
      ]
     },
     "execution_count": 27,
     "metadata": {},
     "output_type": "execute_result"
    }
   ],
   "source": [
    "def reverseWords(text, start):\n",
    "    if start>=len(text)-1: return \"\" \n",
    "    else:\n",
    "        word = []\n",
    "        while start<len(text) and text[start]!=\" \":\n",
    "            word.append(text[start])\n",
    "            start+=1\n",
    "        return reverseWords(text, start+1)+\" \"+\"\".join(word)\n",
    "    \n",
    "def reverseWord(text):\n",
    "    return \" \".join(text.split()[::-1])\n",
    "\n",
    "text = \"Hello I am Aadish\"   \n",
    "reverseWords(list(text), 0)\n",
    "reverseWord(text)\n",
    "    "
   ]
  },
  {
   "cell_type": "markdown",
   "metadata": {},
   "source": [
    "## Permutation of Given String"
   ]
  },
  {
   "cell_type": "code",
   "execution_count": 42,
   "metadata": {},
   "outputs": [
    {
     "name": "stdout",
     "output_type": "stream",
     "text": [
      "abc\n",
      "acb\n",
      "bac\n",
      "bca\n",
      "cba\n",
      "cab\n"
     ]
    }
   ],
   "source": [
    "def permutation(chars, start):\n",
    "    if start==len(chars)-1: \n",
    "        print( \"\".join(chars)) \n",
    "    else:\n",
    "        for i in range(start,len(chars)):\n",
    "            chars[start], chars[i] = chars[i], chars[start] \n",
    "            permutation(chars, start+1)\n",
    "            chars[start], chars[i] = chars[i], chars[start] \n",
    "    \n",
    "chars = ['a', 'b', 'c']\n",
    "permutation(chars, 0 )"
   ]
  },
  {
   "cell_type": "raw",
   "metadata": {},
   "source": [
    "##"
   ]
  }
 ],
 "metadata": {
  "kernelspec": {
   "display_name": "Python 3",
   "language": "python",
   "name": "python3"
  },
  "language_info": {
   "codemirror_mode": {
    "name": "ipython",
    "version": 3
   },
   "file_extension": ".py",
   "mimetype": "text/x-python",
   "name": "python",
   "nbconvert_exporter": "python",
   "pygments_lexer": "ipython3",
   "version": "3.7.3"
  }
 },
 "nbformat": 4,
 "nbformat_minor": 4
}
